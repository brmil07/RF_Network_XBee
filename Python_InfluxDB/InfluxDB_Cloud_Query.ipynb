{
 "cells": [
  {
   "cell_type": "code",
   "execution_count": 1,
   "id": "initial_id",
   "metadata": {
    "collapsed": true,
    "ExecuteTime": {
     "end_time": "2024-01-29T10:09:15.138574500Z",
     "start_time": "2024-01-29T10:09:08.649220Z"
    }
   },
   "outputs": [],
   "source": [
    "import pandas as pd\n",
    "import numpy as np\n",
    "import influxdb_client\n",
    "import matplotlib.pyplot as plt\n",
    "\n",
    "from influxdb_client.client.write_api import SYNCHRONOUS\n",
    "\n",
    "org = \"fh_soest\"\n",
    "url = \"https://eu-central-1-1.aws.cloud2.influxdata.com\"\n",
    "token = \"Bt4r9yYLtH7gitVgnwgULJ47UFmymn18378SsnJMdRXFVz_S14WmPI5JYU-CV4MtpzThGFVhEUJ6htpLX0M43w==\"\n",
    "bucket = \"fh_bucket\"\n",
    "write_client = influxdb_client.InfluxDBClient(url=url, token=token, org=org)\n",
    "\n",
    "write_api = write_client.write_api(write_options=SYNCHRONOUS)\n",
    "query_api = write_client.query_api()"
   ]
  },
  {
   "cell_type": "code",
   "execution_count": 2,
   "outputs": [],
   "source": [
    "# SIMPLE QUERY\n",
    "query1 = \"\"\"from(bucket: \"fh_bucket\")\n",
    "            |> range(start: 2023-12-18T10:00:00Z, stop: now())\n",
    "            |> filter(fn: (r) => r[\"_measurement\"] == \"Experiment\")\n",
    "            |> filter(fn: (r) => r[\"Device_ID\"] == \"0013A20041BDFD8D\")\n",
    "            |> filter(fn: (r) => r[\"Location\"] == \"Soest\")\n",
    "            |> filter(fn: (r) => r[\"_field\"] == \"Light\")\n",
    "            |> pivot(rowKey:[\"_time\"], columnKey: [\"_field\"], valueColumn: \"_value\")\n",
    "         \"\"\"\n",
    "\n",
    "query2 = \"\"\"from(bucket: \"fh_bucket\")\n",
    "            |> range(start: 2023-12-18T10:00:00Z, stop: now())\n",
    "            |> filter(fn: (r) => r[\"_measurement\"] == \"Experiment\")\n",
    "            |> filter(fn: (r) => r[\"Device_ID\"] == \"0013A20041BDFD8D\")\n",
    "            |> filter(fn: (r) => r[\"Location\"] == \"Soest\")\n",
    "            |> filter(fn: (r) => r[\"_field\"] == \"Temperature\")\n",
    "            |> pivot(rowKey:[\"_time\"], columnKey: [\"_field\"], valueColumn: \"_value\")\n",
    "         \"\"\"\n",
    "\n",
    "query3 = \"\"\"from(bucket: \"fh_bucket\")\n",
    "            |> range(start: 2023-12-18T10:00:00Z, stop: now())\n",
    "            |> filter(fn: (r) => r[\"_measurement\"] == \"Experiment\")\n",
    "            |> filter(fn: (r) => r[\"Device_ID\"] == \"0013A20041BDFD8D\")\n",
    "            |> filter(fn: (r) => r[\"Location\"] == \"Soest\")\n",
    "            |> filter(fn: (r) => r[\"_field\"] == \"Altitude\")\n",
    "            |> pivot(rowKey:[\"_time\"], columnKey: [\"_field\"], valueColumn: \"_value\")\n",
    "         \"\"\"\n",
    "\n",
    "query4 = \"\"\"from(bucket: \"fh_bucket\")\n",
    "            |> range(start: 2023-12-18T10:00:00Z, stop: now())\n",
    "            |> filter(fn: (r) => r[\"_measurement\"] == \"Experiment\")\n",
    "            |> filter(fn: (r) => r[\"Device_ID\"] == \"0013A20041BDFD8D\")\n",
    "            |> filter(fn: (r) => r[\"Location\"] == \"Soest\")\n",
    "            |> filter(fn: (r) => r[\"_field\"] == \"Pressure\")\n",
    "            |> pivot(rowKey:[\"_time\"], columnKey: [\"_field\"], valueColumn: \"_value\")\n",
    "         \"\"\"\n",
    "\n",
    "query5 = \"\"\"from(bucket: \"fh_bucket\")\n",
    "            |> range(start: 2023-12-18T10:00:00Z, stop: now())\n",
    "            |> filter(fn: (r) => r[\"_measurement\"] == \"Experiment\")\n",
    "            |> filter(fn: (r) => r[\"Device_ID\"] == \"0013A20041BDFD8D\")\n",
    "            |> filter(fn: (r) => r[\"Location\"] == \"Soest\")\n",
    "            |> filter(fn: (r) => r[\"_field\"] == \"Battery\")\n",
    "            |> pivot(rowKey:[\"_time\"], columnKey: [\"_field\"], valueColumn: \"_value\")\n",
    "         \"\"\""
   ],
   "metadata": {
    "collapsed": false,
    "ExecuteTime": {
     "end_time": "2024-01-29T10:09:21.255807500Z",
     "start_time": "2024-01-29T10:09:21.230049200Z"
    }
   },
   "id": "6eb060b0c389d58c"
  },
  {
   "cell_type": "code",
   "execution_count": 3,
   "outputs": [],
   "source": [
    "# Query: using Pandas DataFrame\n",
    "df1 = query_api.query_data_frame(query1)\n",
    "df2 = query_api.query_data_frame(query2)\n",
    "df3 = query_api.query_data_frame(query3)\n",
    "df4 = query_api.query_data_frame(query4)\n",
    "df5 = query_api.query_data_frame(query5)"
   ],
   "metadata": {
    "collapsed": false,
    "ExecuteTime": {
     "end_time": "2024-01-29T10:09:37.400950Z",
     "start_time": "2024-01-29T10:09:36.801091800Z"
    }
   },
   "id": "890e113be739f7af"
  },
  {
   "cell_type": "code",
   "execution_count": 4,
   "outputs": [],
   "source": [
    "df1 = df1[[\"_time\", \"Device_ID\", \"Location\", \"_measurement\", \"Light\"]]\n",
    "df2 = df2[[\"_time\", \"Device_ID\", \"Location\", \"_measurement\", \"Temperature\"]]\n",
    "df3 = df3[[\"_time\", \"Device_ID\", \"Location\", \"_measurement\", \"Altitude\"]]\n",
    "df4 = df4[[\"_time\", \"Device_ID\", \"Location\", \"_measurement\", \"Pressure\"]]\n",
    "df5 = df5[[\"_time\", \"Device_ID\", \"Location\", \"_measurement\", \"Battery\"]]"
   ],
   "metadata": {
    "collapsed": false,
    "ExecuteTime": {
     "end_time": "2024-01-29T10:09:43.468742400Z",
     "start_time": "2024-01-29T10:09:43.441206100Z"
    }
   },
   "id": "70bb0efffbf89387"
  },
  {
   "cell_type": "code",
   "execution_count": 5,
   "outputs": [
    {
     "data": {
      "text/plain": "                             _time         Device_ID Location _measurement  \\\n0 2024-01-23 14:38:21.218773+00:00  0013A20041BDFD8D    Soest   Experiment   \n1 2024-01-23 14:38:31.101315+00:00  0013A20041BDFD8D    Soest   Experiment   \n2 2024-01-23 14:38:45.460833+00:00  0013A20041BDFD8D    Soest   Experiment   \n3 2024-01-23 14:39:01.660385+00:00  0013A20041BDFD8D    Soest   Experiment   \n4 2024-01-23 14:39:15.609948+00:00  0013A20041BDFD8D    Soest   Experiment   \n\n   Battery  \n0     98.3  \n1     98.3  \n2     98.3  \n3     98.3  \n4     98.3  ",
      "text/html": "<div>\n<style scoped>\n    .dataframe tbody tr th:only-of-type {\n        vertical-align: middle;\n    }\n\n    .dataframe tbody tr th {\n        vertical-align: top;\n    }\n\n    .dataframe thead th {\n        text-align: right;\n    }\n</style>\n<table border=\"1\" class=\"dataframe\">\n  <thead>\n    <tr style=\"text-align: right;\">\n      <th></th>\n      <th>_time</th>\n      <th>Device_ID</th>\n      <th>Location</th>\n      <th>_measurement</th>\n      <th>Battery</th>\n    </tr>\n  </thead>\n  <tbody>\n    <tr>\n      <th>0</th>\n      <td>2024-01-23 14:38:21.218773+00:00</td>\n      <td>0013A20041BDFD8D</td>\n      <td>Soest</td>\n      <td>Experiment</td>\n      <td>98.3</td>\n    </tr>\n    <tr>\n      <th>1</th>\n      <td>2024-01-23 14:38:31.101315+00:00</td>\n      <td>0013A20041BDFD8D</td>\n      <td>Soest</td>\n      <td>Experiment</td>\n      <td>98.3</td>\n    </tr>\n    <tr>\n      <th>2</th>\n      <td>2024-01-23 14:38:45.460833+00:00</td>\n      <td>0013A20041BDFD8D</td>\n      <td>Soest</td>\n      <td>Experiment</td>\n      <td>98.3</td>\n    </tr>\n    <tr>\n      <th>3</th>\n      <td>2024-01-23 14:39:01.660385+00:00</td>\n      <td>0013A20041BDFD8D</td>\n      <td>Soest</td>\n      <td>Experiment</td>\n      <td>98.3</td>\n    </tr>\n    <tr>\n      <th>4</th>\n      <td>2024-01-23 14:39:15.609948+00:00</td>\n      <td>0013A20041BDFD8D</td>\n      <td>Soest</td>\n      <td>Experiment</td>\n      <td>98.3</td>\n    </tr>\n  </tbody>\n</table>\n</div>"
     },
     "execution_count": 5,
     "metadata": {},
     "output_type": "execute_result"
    }
   ],
   "source": [
    "df5.head()"
   ],
   "metadata": {
    "collapsed": false,
    "ExecuteTime": {
     "end_time": "2024-01-29T10:09:52.738746200Z",
     "start_time": "2024-01-29T10:09:52.708419400Z"
    }
   },
   "id": "1d750e060da362e6"
  },
  {
   "cell_type": "code",
   "execution_count": 6,
   "outputs": [],
   "source": [
    "# Merge dataframes on common columns\n",
    "dfs = [df1, df2, df3, df4, df5]\n",
    "\n",
    "# Starting with the first dataframe\n",
    "merged_df = dfs[0]\n",
    "\n",
    "# Iterating over the rest of the dataframes and merging\n",
    "for df in dfs[1:]:\n",
    "    merged_df = pd.merge(merged_df, df, on=['_time', 'Device_ID', 'Location', '_measurement'], how='inner')\n",
    "\n",
    "# Rename the columns\n",
    "result_df = merged_df.rename(columns={'_Time': 'Time', '_measurement': 'Measurement'})"
   ],
   "metadata": {
    "collapsed": false,
    "ExecuteTime": {
     "end_time": "2024-01-29T10:10:14.749189500Z",
     "start_time": "2024-01-29T10:10:14.714894900Z"
    }
   },
   "id": "9fdb9e5933f7a409"
  },
  {
   "cell_type": "code",
   "execution_count": 7,
   "outputs": [
    {
     "data": {
      "text/plain": "                             _time         Device_ID Location Measurement  \\\n0 2024-01-23 14:38:21.218773+00:00  0013A20041BDFD8D    Soest  Experiment   \n1 2024-01-23 14:38:31.101315+00:00  0013A20041BDFD8D    Soest  Experiment   \n2 2024-01-23 14:38:45.460833+00:00  0013A20041BDFD8D    Soest  Experiment   \n3 2024-01-23 14:39:01.660385+00:00  0013A20041BDFD8D    Soest  Experiment   \n4 2024-01-23 14:39:15.609948+00:00  0013A20041BDFD8D    Soest  Experiment   \n\n   Light  Temperature  Altitude   Pressure  Battery  \n0  192.0        18.54      9.36  101212.67     98.3  \n1  192.0        18.54      8.76  101219.78     98.3  \n2  192.0        18.55      8.52  101222.76     98.3  \n3  192.0        18.57      8.78  101219.55     98.3  \n4  209.0        18.59      8.51  101222.81     98.3  ",
      "text/html": "<div>\n<style scoped>\n    .dataframe tbody tr th:only-of-type {\n        vertical-align: middle;\n    }\n\n    .dataframe tbody tr th {\n        vertical-align: top;\n    }\n\n    .dataframe thead th {\n        text-align: right;\n    }\n</style>\n<table border=\"1\" class=\"dataframe\">\n  <thead>\n    <tr style=\"text-align: right;\">\n      <th></th>\n      <th>_time</th>\n      <th>Device_ID</th>\n      <th>Location</th>\n      <th>Measurement</th>\n      <th>Light</th>\n      <th>Temperature</th>\n      <th>Altitude</th>\n      <th>Pressure</th>\n      <th>Battery</th>\n    </tr>\n  </thead>\n  <tbody>\n    <tr>\n      <th>0</th>\n      <td>2024-01-23 14:38:21.218773+00:00</td>\n      <td>0013A20041BDFD8D</td>\n      <td>Soest</td>\n      <td>Experiment</td>\n      <td>192.0</td>\n      <td>18.54</td>\n      <td>9.36</td>\n      <td>101212.67</td>\n      <td>98.3</td>\n    </tr>\n    <tr>\n      <th>1</th>\n      <td>2024-01-23 14:38:31.101315+00:00</td>\n      <td>0013A20041BDFD8D</td>\n      <td>Soest</td>\n      <td>Experiment</td>\n      <td>192.0</td>\n      <td>18.54</td>\n      <td>8.76</td>\n      <td>101219.78</td>\n      <td>98.3</td>\n    </tr>\n    <tr>\n      <th>2</th>\n      <td>2024-01-23 14:38:45.460833+00:00</td>\n      <td>0013A20041BDFD8D</td>\n      <td>Soest</td>\n      <td>Experiment</td>\n      <td>192.0</td>\n      <td>18.55</td>\n      <td>8.52</td>\n      <td>101222.76</td>\n      <td>98.3</td>\n    </tr>\n    <tr>\n      <th>3</th>\n      <td>2024-01-23 14:39:01.660385+00:00</td>\n      <td>0013A20041BDFD8D</td>\n      <td>Soest</td>\n      <td>Experiment</td>\n      <td>192.0</td>\n      <td>18.57</td>\n      <td>8.78</td>\n      <td>101219.55</td>\n      <td>98.3</td>\n    </tr>\n    <tr>\n      <th>4</th>\n      <td>2024-01-23 14:39:15.609948+00:00</td>\n      <td>0013A20041BDFD8D</td>\n      <td>Soest</td>\n      <td>Experiment</td>\n      <td>209.0</td>\n      <td>18.59</td>\n      <td>8.51</td>\n      <td>101222.81</td>\n      <td>98.3</td>\n    </tr>\n  </tbody>\n</table>\n</div>"
     },
     "execution_count": 7,
     "metadata": {},
     "output_type": "execute_result"
    }
   ],
   "source": [
    "result_df.head()"
   ],
   "metadata": {
    "collapsed": false,
    "ExecuteTime": {
     "end_time": "2024-01-29T10:10:16.877073100Z",
     "start_time": "2024-01-29T10:10:16.842462Z"
    }
   },
   "id": "d90147d6a9158f74"
  },
  {
   "cell_type": "code",
   "execution_count": 16,
   "outputs": [
    {
     "name": "stderr",
     "output_type": "stream",
     "text": [
      "C:\\Users\\bryan\\AppData\\Local\\Temp\\ipykernel_13292\\2490959831.py:8: SettingWithCopyWarning: \n",
      "A value is trying to be set on a copy of a slice from a DataFrame.\n",
      "Try using .loc[row_indexer,col_indexer] = value instead\n",
      "\n",
      "See the caveats in the documentation: https://pandas.pydata.org/pandas-docs/stable/user_guide/indexing.html#returning-a-view-versus-a-copy\n",
      "  filtered_df['_time'] = filtered_df['_time'].dt.tz_localize(None)\n"
     ]
    }
   ],
   "source": [
    "# Convert the 'time' column to datetime format\n",
    "result_df['_time'] = pd.to_datetime(result_df['_time'])\n",
    "\n",
    "# Filter rows where 'time' is on or after 29 January 2024\n",
    "filtered_df = result_df[result_df['_time'] >= '2024-01-29']\n",
    "\n",
    "# Convert datetime values to timezone-naive format\n",
    "filtered_df['_time'] = filtered_df['_time'].dt.tz_localize(None)"
   ],
   "metadata": {
    "collapsed": false,
    "ExecuteTime": {
     "end_time": "2024-01-29T10:20:54.850078200Z",
     "start_time": "2024-01-29T10:20:54.829877400Z"
    }
   },
   "id": "db9d339dafbdb878"
  },
  {
   "cell_type": "code",
   "execution_count": 17,
   "outputs": [
    {
     "data": {
      "text/plain": "<Figure size 1000x600 with 1 Axes>",
      "image/png": "[encoded data removed]"
     },
     "metadata": {},
     "output_type": "display_data"
    }
   ],
   "source": [
    "# Plot the time series data\n",
    "plt.figure(figsize=(10, 6))\n",
    "plt.plot(filtered_df['_time'], filtered_df['Light'], label='Time Series Data', color='blue')\n",
    "\n",
    "plt.grid(True)\n",
    "plt.xlabel('Time')\n",
    "plt.ylabel('Light Value')\n",
    "plt.title('Time Series Plot')\n",
    "plt.legend()\n",
    "plt.tight_layout()\n",
    "plt.show()"
   ],
   "metadata": {
    "collapsed": false,
    "ExecuteTime": {
     "end_time": "2024-01-29T10:21:00.535330600Z",
     "start_time": "2024-01-29T10:21:00.355783200Z"
    }
   },
   "id": "af87227fc077f097"
  },
  {
   "cell_type": "code",
   "execution_count": 18,
   "outputs": [
    {
     "data": {
      "text/plain": "                         _time         Device_ID Location Measurement  Light  \\\n87  2024-01-29 09:28:11.938998  0013A20041BDFD8D    Soest  Experiment   31.0   \n88  2024-01-29 09:28:26.522847  0013A20041BDFD8D    Soest  Experiment   31.0   \n89  2024-01-29 09:28:41.457502  0013A20041BDFD8D    Soest  Experiment   31.0   \n90  2024-01-29 09:28:56.507864  0013A20041BDFD8D    Soest  Experiment   31.0   \n91  2024-01-29 09:29:11.118517  0013A20041BDFD8D    Soest  Experiment   31.0   \n..                         ...               ...      ...         ...    ...   \n247 2024-01-29 10:08:26.133316  0013A20041BDFD8D    Soest  Experiment   92.0   \n248 2024-01-29 10:08:40.694581  0013A20041BDFD8D    Soest  Experiment   92.0   \n249 2024-01-29 10:08:54.811566  0013A20041BDFD8D    Soest  Experiment   92.0   \n250 2024-01-29 10:09:11.563557  0013A20041BDFD8D    Soest  Experiment   92.0   \n251 2024-01-29 10:09:25.873955  0013A20041BDFD8D    Soest  Experiment   92.0   \n\n     Temperature  Altitude   Pressure  Battery  \n87         17.92     -9.90  101444.03     -0.0  \n88         17.92     -9.98  101444.92     -0.0  \n89         17.93     -9.96  101444.65     -0.0  \n90         17.93     -9.89  101443.82     -0.0  \n91         17.92     -9.83  101443.09     -0.0  \n..           ...       ...        ...      ...  \n247        18.22    -13.96  101492.78     98.3  \n248        18.23    -13.91  101492.17     98.3  \n249        18.23    -13.96  101492.80     98.3  \n250        18.23    -13.89  101491.91     98.3  \n251        18.23    -13.91  101492.19     98.3  \n\n[165 rows x 9 columns]",
      "text/html": "<div>\n<style scoped>\n    .dataframe tbody tr th:only-of-type {\n        vertical-align: middle;\n    }\n\n    .dataframe tbody tr th {\n        vertical-align: top;\n    }\n\n    .dataframe thead th {\n        text-align: right;\n    }\n</style>\n<table border=\"1\" class=\"dataframe\">\n  <thead>\n    <tr style=\"text-align: right;\">\n      <th></th>\n      <th>_time</th>\n      <th>Device_ID</th>\n      <th>Location</th>\n      <th>Measurement</th>\n      <th>Light</th>\n      <th>Temperature</th>\n      <th>Altitude</th>\n      <th>Pressure</th>\n      <th>Battery</th>\n    </tr>\n  </thead>\n  <tbody>\n    <tr>\n      <th>87</th>\n      <td>2024-01-29 09:28:11.938998</td>\n      <td>0013A20041BDFD8D</td>\n      <td>Soest</td>\n      <td>Experiment</td>\n      <td>31.0</td>\n      <td>17.92</td>\n      <td>-9.90</td>\n      <td>101444.03</td>\n      <td>-0.0</td>\n    </tr>\n    <tr>\n      <th>88</th>\n      <td>2024-01-29 09:28:26.522847</td>\n      <td>0013A20041BDFD8D</td>\n      <td>Soest</td>\n      <td>Experiment</td>\n      <td>31.0</td>\n      <td>17.92</td>\n      <td>-9.98</td>\n      <td>101444.92</td>\n      <td>-0.0</td>\n    </tr>\n    <tr>\n      <th>89</th>\n      <td>2024-01-29 09:28:41.457502</td>\n      <td>0013A20041BDFD8D</td>\n      <td>Soest</td>\n      <td>Experiment</td>\n      <td>31.0</td>\n      <td>17.93</td>\n      <td>-9.96</td>\n      <td>101444.65</td>\n      <td>-0.0</td>\n    </tr>\n    <tr>\n      <th>90</th>\n      <td>2024-01-29 09:28:56.507864</td>\n      <td>0013A20041BDFD8D</td>\n      <td>Soest</td>\n      <td>Experiment</td>\n      <td>31.0</td>\n      <td>17.93</td>\n      <td>-9.89</td>\n      <td>101443.82</td>\n      <td>-0.0</td>\n    </tr>\n    <tr>\n      <th>91</th>\n      <td>2024-01-29 09:29:11.118517</td>\n      <td>0013A20041BDFD8D</td>\n      <td>Soest</td>\n      <td>Experiment</td>\n      <td>31.0</td>\n      <td>17.92</td>\n      <td>-9.83</td>\n      <td>101443.09</td>\n      <td>-0.0</td>\n    </tr>\n    <tr>\n      <th>...</th>\n      <td>...</td>\n      <td>...</td>\n      <td>...</td>\n      <td>...</td>\n      <td>...</td>\n      <td>...</td>\n      <td>...</td>\n      <td>...</td>\n      <td>...</td>\n    </tr>\n    <tr>\n      <th>247</th>\n      <td>2024-01-29 10:08:26.133316</td>\n      <td>0013A20041BDFD8D</td>\n      <td>Soest</td>\n      <td>Experiment</td>\n      <td>92.0</td>\n      <td>18.22</td>\n      <td>-13.96</td>\n      <td>101492.78</td>\n      <td>98.3</td>\n    </tr>\n    <tr>\n      <th>248</th>\n      <td>2024-01-29 10:08:40.694581</td>\n      <td>0013A20041BDFD8D</td>\n      <td>Soest</td>\n      <td>Experiment</td>\n      <td>92.0</td>\n      <td>18.23</td>\n      <td>-13.91</td>\n      <td>101492.17</td>\n      <td>98.3</td>\n    </tr>\n    <tr>\n      <th>249</th>\n      <td>2024-01-29 10:08:54.811566</td>\n      <td>0013A20041BDFD8D</td>\n      <td>Soest</td>\n      <td>Experiment</td>\n      <td>92.0</td>\n      <td>18.23</td>\n      <td>-13.96</td>\n      <td>101492.80</td>\n      <td>98.3</td>\n    </tr>\n    <tr>\n      <th>250</th>\n      <td>2024-01-29 10:09:11.563557</td>\n      <td>0013A20041BDFD8D</td>\n      <td>Soest</td>\n      <td>Experiment</td>\n      <td>92.0</td>\n      <td>18.23</td>\n      <td>-13.89</td>\n      <td>101491.91</td>\n      <td>98.3</td>\n    </tr>\n    <tr>\n      <th>251</th>\n      <td>2024-01-29 10:09:25.873955</td>\n      <td>0013A20041BDFD8D</td>\n      <td>Soest</td>\n      <td>Experiment</td>\n      <td>92.0</td>\n      <td>18.23</td>\n      <td>-13.91</td>\n      <td>101492.19</td>\n      <td>98.3</td>\n    </tr>\n  </tbody>\n</table>\n<p>165 rows × 9 columns</p>\n</div>"
     },
     "execution_count": 18,
     "metadata": {},
     "output_type": "execute_result"
    }
   ],
   "source": [
    "filtered_df"
   ],
   "metadata": {
    "collapsed": false,
    "ExecuteTime": {
     "end_time": "2024-01-29T10:21:03.163978200Z",
     "start_time": "2024-01-29T10:21:03.124882500Z"
    }
   },
   "id": "dd3aa29e3a2a53a6"
  },
  {
   "cell_type": "code",
   "execution_count": 19,
   "outputs": [],
   "source": [
    "# Save the filtered DataFrame to an Excel file\n",
    "filtered_df.to_excel('filtered_data.xlsx', index=True)"
   ],
   "metadata": {
    "collapsed": false,
    "ExecuteTime": {
     "end_time": "2024-01-29T10:21:07.007543300Z",
     "start_time": "2024-01-29T10:21:06.951401700Z"
    }
   },
   "id": "823e7de10a05d16c"
  },
  {
   "cell_type": "code",
   "execution_count": null,
   "outputs": [],
   "source": [],
   "metadata": {
    "collapsed": false
   },
   "id": "f80f0a43b64fbc9d"
  }
 ],
 "metadata": {
  "kernelspec": {
   "display_name": "Python 3",
   "language": "python",
   "name": "python3"
  },
  "language_info": {
   "codemirror_mode": {
    "name": "ipython",
    "version": 2
   },
   "file_extension": ".py",
   "mimetype": "text/x-python",
   "name": "python",
   "nbconvert_exporter": "python",
   "pygments_lexer": "ipython2",
   "version": "2.7.6"
  }
 },
 "nbformat": 4,
 "nbformat_minor": 5
}
