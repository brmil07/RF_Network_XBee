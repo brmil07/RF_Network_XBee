{
 "cells": [
  {
   "cell_type": "code",
   "execution_count": null,
   "id": "initial_id",
   "metadata": {
    "ExecuteTime": {
     "end_time": "2024-01-29T10:09:15.138574500Z",
     "start_time": "2024-01-29T10:09:08.649220Z"
    },
    "collapsed": true
   },
   "outputs": [],
   "source": [
    "import pandas as pd\n",
    "import numpy as np\n",
    "import influxdb_client\n",
    "import matplotlib.pyplot as plt\n",
    "\n",
    "from influxdb_client.client.write_api import SYNCHRONOUS\n",
    "\n",
    "org = \"fh_soest\"\n",
    "url = \"https://eu-central-1-1.aws.cloud2.influxdata.com\"\n",
    "token = \"Bt4r9yYLtH7gitVgnwgULJ47UFmymn18378SsnJMdRXFVz_S14WmPI5JYU-CV4MtpzThGFVhEUJ6htpLX0M43w==\"\n",
    "bucket = \"fh_bucket\"\n",
    "write_client = influxdb_client.InfluxDBClient(url=url, token=token, org=org)\n",
    "\n",
    "write_api = write_client.write_api(write_options=SYNCHRONOUS)\n",
    "query_api = write_client.query_api()"
   ]
  },
  {
   "cell_type": "code",
   "execution_count": null,
   "id": "6eb060b0c389d58c",
   "metadata": {
    "ExecuteTime": {
     "end_time": "2024-01-29T10:09:21.255807500Z",
     "start_time": "2024-01-29T10:09:21.230049200Z"
    },
    "collapsed": false
   },
   "outputs": [],
   "source": [
    "# SIMPLE QUERY\n",
    "query1 = \"\"\"from(bucket: \"fh_bucket\")\n",
    "            |> range(start: 2023-12-18T10:00:00Z, stop: now())\n",
    "            |> filter(fn: (r) => r[\"_measurement\"] == \"Experiment\")\n",
    "            |> filter(fn: (r) => r[\"Device_ID\"] == \"0013A20041BDFD8D\")\n",
    "            |> filter(fn: (r) => r[\"Location\"] == \"Soest\")\n",
    "            |> filter(fn: (r) => r[\"_field\"] == \"Light\")\n",
    "            |> pivot(rowKey:[\"_time\"], columnKey: [\"_field\"], valueColumn: \"_value\")\n",
    "         \"\"\"\n",
    "\n",
    "query2 = \"\"\"from(bucket: \"fh_bucket\")\n",
    "            |> range(start: 2023-12-18T10:00:00Z, stop: now())\n",
    "            |> filter(fn: (r) => r[\"_measurement\"] == \"Experiment\")\n",
    "            |> filter(fn: (r) => r[\"Device_ID\"] == \"0013A20041BDFD8D\")\n",
    "            |> filter(fn: (r) => r[\"Location\"] == \"Soest\")\n",
    "            |> filter(fn: (r) => r[\"_field\"] == \"Temperature\")\n",
    "            |> pivot(rowKey:[\"_time\"], columnKey: [\"_field\"], valueColumn: \"_value\")\n",
    "         \"\"\"\n",
    "\n",
    "query3 = \"\"\"from(bucket: \"fh_bucket\")\n",
    "            |> range(start: 2023-12-18T10:00:00Z, stop: now())\n",
    "            |> filter(fn: (r) => r[\"_measurement\"] == \"Experiment\")\n",
    "            |> filter(fn: (r) => r[\"Device_ID\"] == \"0013A20041BDFD8D\")\n",
    "            |> filter(fn: (r) => r[\"Location\"] == \"Soest\")\n",
    "            |> filter(fn: (r) => r[\"_field\"] == \"Altitude\")\n",
    "            |> pivot(rowKey:[\"_time\"], columnKey: [\"_field\"], valueColumn: \"_value\")\n",
    "         \"\"\"\n",
    "\n",
    "query4 = \"\"\"from(bucket: \"fh_bucket\")\n",
    "            |> range(start: 2023-12-18T10:00:00Z, stop: now())\n",
    "            |> filter(fn: (r) => r[\"_measurement\"] == \"Experiment\")\n",
    "            |> filter(fn: (r) => r[\"Device_ID\"] == \"0013A20041BDFD8D\")\n",
    "            |> filter(fn: (r) => r[\"Location\"] == \"Soest\")\n",
    "            |> filter(fn: (r) => r[\"_field\"] == \"Pressure\")\n",
    "            |> pivot(rowKey:[\"_time\"], columnKey: [\"_field\"], valueColumn: \"_value\")\n",
    "         \"\"\"\n",
    "\n",
    "query5 = \"\"\"from(bucket: \"fh_bucket\")\n",
    "            |> range(start: 2023-12-18T10:00:00Z, stop: now())\n",
    "            |> filter(fn: (r) => r[\"_measurement\"] == \"Experiment\")\n",
    "            |> filter(fn: (r) => r[\"Device_ID\"] == \"0013A20041BDFD8D\")\n",
    "            |> filter(fn: (r) => r[\"Location\"] == \"Soest\")\n",
    "            |> filter(fn: (r) => r[\"_field\"] == \"Battery\")\n",
    "            |> pivot(rowKey:[\"_time\"], columnKey: [\"_field\"], valueColumn: \"_value\")\n",
    "         \"\"\""
   ]
  },
  {
   "cell_type": "code",
   "execution_count": null,
   "id": "890e113be739f7af",
   "metadata": {
    "ExecuteTime": {
     "end_time": "2024-01-29T10:09:37.400950Z",
     "start_time": "2024-01-29T10:09:36.801091800Z"
    },
    "collapsed": false
   },
   "outputs": [],
   "source": [
    "# Query: using Pandas DataFrame\n",
    "df1 = query_api.query_data_frame(query1)\n",
    "df2 = query_api.query_data_frame(query2)\n",
    "df3 = query_api.query_data_frame(query3)\n",
    "df4 = query_api.query_data_frame(query4)\n",
    "df5 = query_api.query_data_frame(query5)"
   ]
  },
  {
   "cell_type": "code",
   "execution_count": null,
   "id": "70bb0efffbf89387",
   "metadata": {
    "ExecuteTime": {
     "end_time": "2024-01-29T10:09:43.468742400Z",
     "start_time": "2024-01-29T10:09:43.441206100Z"
    },
    "collapsed": false
   },
   "outputs": [],
   "source": [
    "df1 = df1[[\"_time\", \"Device_ID\", \"Location\", \"_measurement\", \"Light\"]]\n",
    "df2 = df2[[\"_time\", \"Device_ID\", \"Location\", \"_measurement\", \"Temperature\"]]\n",
    "df3 = df3[[\"_time\", \"Device_ID\", \"Location\", \"_measurement\", \"Altitude\"]]\n",
    "df4 = df4[[\"_time\", \"Device_ID\", \"Location\", \"_measurement\", \"Pressure\"]]\n",
    "df5 = df5[[\"_time\", \"Device_ID\", \"Location\", \"_measurement\", \"Battery\"]]"
   ]
  },
  {
   "cell_type": "code",
   "execution_count": null,
   "id": "1d750e060da362e6",
   "metadata": {
    "ExecuteTime": {
     "end_time": "2024-01-29T10:09:52.738746200Z",
     "start_time": "2024-01-29T10:09:52.708419400Z"
    },
    "collapsed": false
   },
   "outputs": [],
   "source": [
    "df5.head()"
   ]
  },
  {
   "cell_type": "code",
   "execution_count": null,
   "id": "9fdb9e5933f7a409",
   "metadata": {
    "ExecuteTime": {
     "end_time": "2024-01-29T10:10:14.749189500Z",
     "start_time": "2024-01-29T10:10:14.714894900Z"
    },
    "collapsed": false
   },
   "outputs": [],
   "source": [
    "# Merge dataframes on common columns\n",
    "dfs = [df1, df2, df3, df4, df5]\n",
    "\n",
    "# Starting with the first dataframe\n",
    "merged_df = dfs[0]\n",
    "\n",
    "# Iterating over the rest of the dataframes and merging\n",
    "for df in dfs[1:]:\n",
    "    merged_df = pd.merge(merged_df, df, on=['_time', 'Device_ID', 'Location', '_measurement'], how='inner')\n",
    "\n",
    "# Rename the columns\n",
    "result_df = merged_df.rename(columns={'_Time': 'Time', '_measurement': 'Measurement'})"
   ]
  },
  {
   "cell_type": "code",
   "execution_count": null,
   "id": "d90147d6a9158f74",
   "metadata": {
    "ExecuteTime": {
     "end_time": "2024-01-29T10:10:16.877073100Z",
     "start_time": "2024-01-29T10:10:16.842462Z"
    },
    "collapsed": false
   },
   "outputs": [],
   "source": [
    "result_df.head()"
   ]
  },
  {
   "cell_type": "code",
   "execution_count": null,
   "id": "db9d339dafbdb878",
   "metadata": {
    "ExecuteTime": {
     "end_time": "2024-01-29T10:20:54.850078200Z",
     "start_time": "2024-01-29T10:20:54.829877400Z"
    },
    "collapsed": false
   },
   "outputs": [],
   "source": [
    "# Convert the 'time' column to datetime format\n",
    "result_df['_time'] = pd.to_datetime(result_df['_time'])\n",
    "\n",
    "# Filter rows where 'time' is on or after 29 January 2024\n",
    "filtered_df = result_df[result_df['_time'] >= '2024-01-29']\n",
    "\n",
    "# Convert datetime values to timezone-naive format\n",
    "filtered_df['_time'] = filtered_df['_time'].dt.tz_localize(None)"
   ]
  },
  {
   "cell_type": "code",
   "execution_count": null,
   "id": "af87227fc077f097",
   "metadata": {
    "ExecuteTime": {
     "end_time": "2024-01-29T10:21:00.535330600Z",
     "start_time": "2024-01-29T10:21:00.355783200Z"
    },
    "collapsed": false
   },
   "outputs": [],
   "source": [
    "# Plot the time series data\n",
    "plt.figure(figsize=(10, 6))\n",
    "plt.plot(filtered_df['_time'], filtered_df['Light'], label='Time Series Data', color='blue')\n",
    "\n",
    "plt.grid(True)\n",
    "plt.xlabel('Time')\n",
    "plt.ylabel('Light Value')\n",
    "plt.title('Time Series Plot')\n",
    "plt.legend()\n",
    "plt.tight_layout()\n",
    "plt.show()"
   ]
  },
  {
   "cell_type": "code",
   "execution_count": null,
   "id": "dd3aa29e3a2a53a6",
   "metadata": {
    "ExecuteTime": {
     "end_time": "2024-01-29T10:21:03.163978200Z",
     "start_time": "2024-01-29T10:21:03.124882500Z"
    },
    "collapsed": false
   },
   "outputs": [],
   "source": [
    "filtered_df"
   ]
  },
  {
   "cell_type": "code",
   "execution_count": null,
   "id": "823e7de10a05d16c",
   "metadata": {
    "ExecuteTime": {
     "end_time": "2024-01-29T10:21:07.007543300Z",
     "start_time": "2024-01-29T10:21:06.951401700Z"
    },
    "collapsed": false
   },
   "outputs": [],
   "source": [
    "# Save the filtered DataFrame to an Excel file\n",
    "filtered_df.to_excel('filtered_data.xlsx', index=True)"
   ]
  },
  {
   "cell_type": "code",
   "execution_count": null,
   "id": "f80f0a43b64fbc9d",
   "metadata": {
    "collapsed": false
   },
   "outputs": [],
   "source": []
  }
 ],
 "metadata": {
  "kernelspec": {
   "display_name": "Python 3",
   "language": "python",
   "name": "python3"
  },
  "language_info": {
   "codemirror_mode": {
    "name": "ipython",
    "version": 2
   },
   "file_extension": ".py",
   "mimetype": "text/x-python",
   "name": "python",
   "nbconvert_exporter": "python",
   "pygments_lexer": "ipython2",
   "version": "2.7.6"
  }
 },
 "nbformat": 4,
 "nbformat_minor": 5
}
