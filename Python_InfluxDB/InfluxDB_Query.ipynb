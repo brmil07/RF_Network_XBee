{
 "cells": [
  {
   "cell_type": "code",
   "execution_count": 56,
   "id": "initial_id",
   "metadata": {
    "ExecuteTime": {
     "end_time": "2023-12-18T10:23:43.631242800Z",
     "start_time": "2023-12-18T10:23:42.720166800Z"
    },
    "collapsed": true
   },
   "outputs": [],
   "source": [
    "import pandas as pd\n",
    "import numpy as np\n",
    "import influxdb_client\n",
    "import matplotlib.pyplot as plt\n",
    "\n",
    "from influxdb_client.client.write_api import SYNCHRONOUS\n",
    "\n",
    "org = \"FH\"\n",
    "url = \"http://127.0.0.1:8086\"\n",
    "token = \"Wfwp8kjSQpSaGsP2ZqXB7rEqmsjtGfaj-8nr6LQzIWmr8RbWcz4S_xBbB_484MTjmM0Y8F38WGIG4ve_1ubB1g==\"\n",
    "write_client = influxdb_client.InfluxDBClient(url=url, token=token, org=org)\n",
    "bucket = \"fh_bucket\"\n",
    "\n",
    "write_api = write_client.write_api(write_options=SYNCHRONOUS)\n",
    "query_api = write_client.query_api()"
   ]
  },
  {
   "cell_type": "code",
   "execution_count": 36,
   "id": "e74ed70366ebc003",
   "metadata": {
    "ExecuteTime": {
     "end_time": "2023-12-18T10:13:12.963623700Z",
     "start_time": "2023-12-18T10:13:12.956483Z"
    },
    "collapsed": false
   },
   "outputs": [],
   "source": [
    "# SIMPLE QUERY\n",
    "query1 = \"\"\"from(bucket: \"fh_bucket\")\n",
    "            |> range(start: 2023-12-18T10:00:00Z, stop: now())\n",
    "            |> filter(fn: (r) => r[\"_measurement\"] == \"Experiment\")\n",
    "            |> filter(fn: (r) => r[\"Device_ID\"] == \"0013A20041BDFD8D\")\n",
    "            |> filter(fn: (r) => r[\"Location\"] == \"Soest\")\n",
    "            |> filter(fn: (r) => r[\"_field\"] == \"Light\")\n",
    "            |> pivot(rowKey:[\"_time\"], columnKey: [\"_field\"], valueColumn: \"_value\")\n",
    "         \"\"\"\n",
    "\n",
    "query2 = \"\"\"from(bucket: \"fh_bucket\")\n",
    "            |> range(start: 2023-12-18T10:00:00Z, stop: now())\n",
    "            |> filter(fn: (r) => r[\"_measurement\"] == \"Experiment\")\n",
    "            |> filter(fn: (r) => r[\"Device_ID\"] == \"0013A20041BDFD8D\")\n",
    "            |> filter(fn: (r) => r[\"Location\"] == \"Soest\")\n",
    "            |> filter(fn: (r) => r[\"_field\"] == \"Temperature\")\n",
    "            |> pivot(rowKey:[\"_time\"], columnKey: [\"_field\"], valueColumn: \"_value\")\n",
    "         \"\"\"\n",
    "\n",
    "query3 = \"\"\"from(bucket: \"fh_bucket\")\n",
    "            |> range(start: 2023-12-18T10:00:00Z, stop: now())\n",
    "            |> filter(fn: (r) => r[\"_measurement\"] == \"Experiment\")\n",
    "            |> filter(fn: (r) => r[\"Device_ID\"] == \"0013A20041BDFD8D\")\n",
    "            |> filter(fn: (r) => r[\"Location\"] == \"Soest\")\n",
    "            |> filter(fn: (r) => r[\"_field\"] == \"Altitude\")\n",
    "            |> pivot(rowKey:[\"_time\"], columnKey: [\"_field\"], valueColumn: \"_value\")\n",
    "         \"\"\"\n",
    "\n",
    "query4 = \"\"\"from(bucket: \"fh_bucket\")\n",
    "            |> range(start: 2023-12-18T10:00:00Z, stop: now())\n",
    "            |> filter(fn: (r) => r[\"_measurement\"] == \"Experiment\")\n",
    "            |> filter(fn: (r) => r[\"Device_ID\"] == \"0013A20041BDFD8D\")\n",
    "            |> filter(fn: (r) => r[\"Location\"] == \"Soest\")\n",
    "            |> filter(fn: (r) => r[\"_field\"] == \"Pressure\")\n",
    "            |> pivot(rowKey:[\"_time\"], columnKey: [\"_field\"], valueColumn: \"_value\")\n",
    "         \"\"\"\n",
    "\n",
    "query5 = \"\"\"from(bucket: \"fh_bucket\")\n",
    "            |> range(start: 2023-12-18T10:00:00Z, stop: now())\n",
    "            |> filter(fn: (r) => r[\"_measurement\"] == \"Experiment\")\n",
    "            |> filter(fn: (r) => r[\"Device_ID\"] == \"0013A20041BDFD8D\")\n",
    "            |> filter(fn: (r) => r[\"Location\"] == \"Soest\")\n",
    "            |> filter(fn: (r) => r[\"_field\"] == \"Battery\")\n",
    "            |> pivot(rowKey:[\"_time\"], columnKey: [\"_field\"], valueColumn: \"_value\")\n",
    "         \"\"\""
   ]
  },
  {
   "cell_type": "code",
   "execution_count": null,
   "id": "a3c0ac60957a6324",
   "metadata": {
    "collapsed": false
   },
   "outputs": [],
   "source": [
    "# Query: using Table structure\n",
    "\n",
    "tables = query_api.query(query1, org=\"FH\")\n",
    "\n",
    "for table in tables:\n",
    "  for record in table.records:\n",
    "    print(record)"
   ]
  },
  {
   "cell_type": "code",
   "execution_count": 37,
   "id": "7cec1cc07578980e",
   "metadata": {
    "ExecuteTime": {
     "end_time": "2023-12-18T10:13:18.259430500Z",
     "start_time": "2023-12-18T10:13:18.150136200Z"
    },
    "collapsed": false
   },
   "outputs": [],
   "source": [
    "# Query: using Pandas DataFrame\n",
    "df1 = query_api.query_data_frame(query1)\n",
    "df2 = query_api.query_data_frame(query2)\n",
    "df3 = query_api.query_data_frame(query3)\n",
    "df4 = query_api.query_data_frame(query4)\n",
    "df5 = query_api.query_data_frame(query5)"
   ]
  },
  {
   "cell_type": "code",
   "execution_count": 38,
   "id": "e02a2e9cb9d27a9e",
   "metadata": {
    "ExecuteTime": {
     "end_time": "2023-12-18T10:13:33.320372500Z",
     "start_time": "2023-12-18T10:13:33.238221100Z"
    },
    "collapsed": false
   },
   "outputs": [],
   "source": [
    "df1 = df1[[\"_time\", \"Device_ID\", \"Location\", \"_measurement\", \"Light\"]]\n",
    "df2 = df2[[\"_time\", \"Device_ID\", \"Location\", \"_measurement\", \"Temperature\"]]\n",
    "df3 = df3[[\"_time\", \"Device_ID\", \"Location\", \"_measurement\", \"Altitude\"]]\n",
    "df4 = df4[[\"_time\", \"Device_ID\", \"Location\", \"_measurement\", \"Pressure\"]]\n",
    "df5 = df5[[\"_time\", \"Device_ID\", \"Location\", \"_measurement\", \"Battery\"]]"
   ]
  },
  {
   "cell_type": "code",
   "execution_count": null,
   "id": "42c8853fe73c632d",
   "metadata": {
    "collapsed": false
   },
   "outputs": [],
   "source": [
    "df5.head()"
   ]
  },
  {
   "cell_type": "code",
   "execution_count": 51,
   "id": "b30d5fd04aa53c10",
   "metadata": {
    "ExecuteTime": {
     "end_time": "2023-12-18T10:20:27.421115400Z",
     "start_time": "2023-12-18T10:20:27.402296400Z"
    },
    "collapsed": false
   },
   "outputs": [],
   "source": [
    "# Merge dataframes on common columns\n",
    "dfs = [df1, df2, df3, df4, df5]\n",
    "\n",
    "# Starting with the first dataframe\n",
    "merged_df = dfs[0]\n",
    "\n",
    "# Iterating over the rest of the dataframes and merging\n",
    "for df in dfs[1:]:\n",
    "    merged_df = pd.merge(merged_df, df, on=['_time', 'Device_ID', 'Location', '_measurement'], how='inner')\n",
    "\n",
    "# Rename the columns\n",
    "result_df = merged_df.rename(columns={'_Time': 'Time', '_measurement': 'Measurement'})"
   ]
  },
  {
   "cell_type": "code",
   "execution_count": 54,
   "id": "bd19e8f2743987fb",
   "metadata": {
    "ExecuteTime": {
     "end_time": "2023-12-18T10:23:00.196566200Z",
     "start_time": "2023-12-18T10:23:00.189559100Z"
    },
    "collapsed": false
   },
   "outputs": [
    {
     "data": {
      "text/html": [
       "<div>\n",
       "<style scoped>\n",
       "    .dataframe tbody tr th:only-of-type {\n",
       "        vertical-align: middle;\n",
       "    }\n",
       "\n",
       "    .dataframe tbody tr th {\n",
       "        vertical-align: top;\n",
       "    }\n",
       "\n",
       "    .dataframe thead th {\n",
       "        text-align: right;\n",
       "    }\n",
       "</style>\n",
       "<table border=\"1\" class=\"dataframe\">\n",
       "  <thead>\n",
       "    <tr style=\"text-align: right;\">\n",
       "      <th></th>\n",
       "      <th>Time</th>\n",
       "      <th>Device_ID</th>\n",
       "      <th>Location</th>\n",
       "      <th>Measurement</th>\n",
       "      <th>Light</th>\n",
       "      <th>Temperature</th>\n",
       "    </tr>\n",
       "  </thead>\n",
       "  <tbody>\n",
       "    <tr>\n",
       "      <th>0</th>\n",
       "      <td>2023-12-18 10:00:01.501166+00:00</td>\n",
       "      <td>0013A20041BDFD8D</td>\n",
       "      <td>Soest</td>\n",
       "      <td>Experiment</td>\n",
       "      <td>62.0</td>\n",
       "      <td>18.27</td>\n",
       "    </tr>\n",
       "    <tr>\n",
       "      <th>1</th>\n",
       "      <td>2023-12-18 10:00:16.471934+00:00</td>\n",
       "      <td>0013A20041BDFD8D</td>\n",
       "      <td>Soest</td>\n",
       "      <td>Experiment</td>\n",
       "      <td>44.0</td>\n",
       "      <td>18.30</td>\n",
       "    </tr>\n",
       "    <tr>\n",
       "      <th>2</th>\n",
       "      <td>2023-12-18 10:00:32.300399+00:00</td>\n",
       "      <td>0013A20041BDFD8D</td>\n",
       "      <td>Soest</td>\n",
       "      <td>Experiment</td>\n",
       "      <td>44.0</td>\n",
       "      <td>18.31</td>\n",
       "    </tr>\n",
       "    <tr>\n",
       "      <th>3</th>\n",
       "      <td>2023-12-18 10:00:46.831279+00:00</td>\n",
       "      <td>0013A20041BDFD8D</td>\n",
       "      <td>Soest</td>\n",
       "      <td>Experiment</td>\n",
       "      <td>44.0</td>\n",
       "      <td>18.28</td>\n",
       "    </tr>\n",
       "    <tr>\n",
       "      <th>4</th>\n",
       "      <td>2023-12-18 10:01:02.404398+00:00</td>\n",
       "      <td>0013A20041BDFD8D</td>\n",
       "      <td>Soest</td>\n",
       "      <td>Experiment</td>\n",
       "      <td>44.0</td>\n",
       "      <td>18.26</td>\n",
       "    </tr>\n",
       "  </tbody>\n",
       "</table>\n",
       "</div>"
      ],
      "text/plain": [
       "                              Time         Device_ID Location Measurement  \\\n",
       "0 2023-12-18 10:00:01.501166+00:00  0013A20041BDFD8D    Soest  Experiment   \n",
       "1 2023-12-18 10:00:16.471934+00:00  0013A20041BDFD8D    Soest  Experiment   \n",
       "2 2023-12-18 10:00:32.300399+00:00  0013A20041BDFD8D    Soest  Experiment   \n",
       "3 2023-12-18 10:00:46.831279+00:00  0013A20041BDFD8D    Soest  Experiment   \n",
       "4 2023-12-18 10:01:02.404398+00:00  0013A20041BDFD8D    Soest  Experiment   \n",
       "\n",
       "   Light  Temperature  \n",
       "0   62.0        18.27  \n",
       "1   44.0        18.30  \n",
       "2   44.0        18.31  \n",
       "3   44.0        18.28  \n",
       "4   44.0        18.26  "
      ]
     },
     "execution_count": 54,
     "metadata": {},
     "output_type": "execute_result"
    }
   ],
   "source": [
    "result_df.head()"
   ]
  },
  {
   "cell_type": "code",
   "execution_count": 59,
   "id": "71e12468ce902f3c",
   "metadata": {
    "ExecuteTime": {
     "end_time": "2023-12-18T10:26:08.611981400Z",
     "start_time": "2023-12-18T10:26:08.481088700Z"
    },
    "collapsed": false
   },
   "outputs": [
    {
     "data": {
      "image/png": "[encoded data removed]",
      "text/plain": [
       "<Figure size 1000x600 with 1 Axes>"
      ]
     },
     "metadata": {},
     "output_type": "display_data"
    }
   ],
   "source": [
    "# Plot the time series data\n",
    "plt.figure(figsize=(10, 6))\n",
    "plt.plot(result_df[\"Time\"], result_df.Light, label='Time Series Data', color='blue', marker='o')\n",
    "\n",
    "# Activate the grid\n",
    "plt.grid(True)\n",
    "\n",
    "# Add labels and title\n",
    "plt.xlabel('Time')\n",
    "plt.ylabel('Light Value')\n",
    "plt.title('Time Series Plot')\n",
    "plt.legend()\n",
    "\n",
    "# Show the plot\n",
    "plt.show()"
   ]
  }
 ],
 "metadata": {
  "kernelspec": {
   "display_name": "Python 3",
   "language": "python",
   "name": "python3"
  },
  "language_info": {
   "codemirror_mode": {
    "name": "ipython",
    "version": 2
   },
   "file_extension": ".py",
   "mimetype": "text/x-python",
   "name": "python",
   "nbconvert_exporter": "python",
   "pygments_lexer": "ipython2",
   "version": "2.7.6"
  }
 },
 "nbformat": 4,
 "nbformat_minor": 5
}
